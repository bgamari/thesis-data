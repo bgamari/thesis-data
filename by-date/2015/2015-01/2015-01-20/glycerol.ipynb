{
 "metadata": {
  "name": "",
  "signature": "sha256:7186a6a7876d4aeda9c942f701a0e11021ed166d6dc8fe23c906691feefe4380"
 },
 "nbformat": 3,
 "nbformat_minor": 0,
 "worksheets": [
  {
   "cells": [
    {
     "cell_type": "code",
     "collapsed": false,
     "input": [
      "from __future__ import division\n",
      "import numpy as np\n",
      "import pint\n",
      "u = pint.UnitRegistry()\n",
      "u.define('Molar = 1 * mol / L = M')\n",
      "u.define('Poise = 1 * g / cm / s')"
     ],
     "language": "python",
     "metadata": {},
     "outputs": [],
     "prompt_number": 52
    },
    {
     "cell_type": "code",
     "collapsed": false,
     "input": [
      "# Glycerol\n",
      "gly_density = 1.26 * u.g / u.cm**3\n",
      "gly_molar_mass = 92 * u.g / u.mol\n",
      "\n",
      "# Water\n",
      "water_visc = 0.899 * u.cPoise\n",
      "water_density = 1 * u.g / u.cm**3\n",
      "\n",
      "# Fluorophore\n",
      "stock_conc = 10 * u.uM\n",
      "desired_conc = 1 * u.uM\n",
      "hydrodynamic_rad = 0.3 * u.nm\n",
      "\n",
      "Vtot = 400 * u.uL\n",
      "\n",
      "boltzmann = 8.6e-5 * u.eV / u.K"
     ],
     "language": "python",
     "metadata": {},
     "outputs": [],
     "prompt_number": 106
    },
    {
     "cell_type": "code",
     "collapsed": false,
     "input": [
      "def wt_frac_to_vol_frac(wt_frac):\n",
      "    if wt_frac == 0: return 0\n",
      "    # Va / Vb\n",
      "    ratio = (1/wt_frac - 1) * gly_density / water_density\n",
      "    # Va / (Va + Vb)\n",
      "    return 1 / (1 + ratio)"
     ],
     "language": "python",
     "metadata": {},
     "outputs": [],
     "prompt_number": 107
    },
    {
     "cell_type": "code",
     "collapsed": false,
     "input": [
      "def rot_diffusivity(R, temp, visc):\n",
      "    \"\"\" Stokes-Einstein-Debye \"\"\"\n",
      "    return boltzmann * temp / 8 / np.pi / visc / R**3"
     ],
     "language": "python",
     "metadata": {},
     "outputs": [],
     "prompt_number": 108
    },
    {
     "cell_type": "code",
     "collapsed": false,
     "input": [
      "\"\"\" Cheng, N. S. (2008). \u201cFormula for viscosity of glycerol-water mixture.\u201d\n",
      "    Industrial and Engineering Chemistry Research, 47, 3285-3288. \"\"\"\n",
      "\n",
      "def glycerol_viscosity(temp):\n",
      "    return 12000 * np.exp((-1233 + temp) * temp / (9900 + 70 * temp)) * u.cPoise\n",
      "\n",
      "def water_viscosity(temp):\n",
      "    return 1.790 * np.exp((-1230 - temp) * temp / (36100 + 360 * temp)) * u.cPoise\n",
      "\n",
      "def water_glycerol_viscosity(mass_frac, temp=25):\n",
      "    glycerol_visc = glycerol_viscosity(temp)\n",
      "    water_visc = water_viscosity(temp)\n",
      "    \n",
      "    a = 0.705 - 0.0017 * temp\n",
      "    b = (4.9 + 0.036 * temp) * a**2.5\n",
      "    alpha = 1 - mass_frac + (a * b * mass_frac * (1 - mass_frac)) / (a * mass_frac + b * (1 - mass_frac))\n",
      "    A = np.log(water_visc / glycerol_visc)\n",
      "    return glycerol_visc * np.exp(A * alpha)"
     ],
     "language": "python",
     "metadata": {},
     "outputs": [],
     "prompt_number": 109
    },
    {
     "cell_type": "code",
     "collapsed": false,
     "input": [
      "for wt_frac in [0, 0.1, 0.2, 0.3, 0.5, 0.6, 0.7]:\n",
      "    vol_frac = wt_frac_to_vol_frac(wt_frac)\n",
      "    vol_gly = vol_frac * Vtot\n",
      "    vol_other = Vtot - vol_gly\n",
      "    vol_fluor = Vtot * desired_conc / stock_conc\n",
      "    vol_water = Vtot - vol_gly - vol_fluor\n",
      "    \n",
      "    vol_gly = vol_gly.round(0)\n",
      "    vol_fluor = vol_fluor.round(0)\n",
      "    vol_water = vol_water.round(0)\n",
      "    \n",
      "    actual_wt_frac = vol_gly * gly_density / (vol_gly*gly_density + vol_water*water_density)\n",
      "    visc = water_glycerol_viscosity(actual_wt_frac, 25)\n",
      "    \n",
      "    print 'weight fraction ', wt_frac\n",
      "    print '  Water:         ', vol_water\n",
      "    print '  Fluorophore:   ', vol_fluor\n",
      "    print '  Glycerol:      ', vol_gly\n",
      "    print '  Actual wt/wt:  ', float(actual_wt_frac.round(2))\n",
      "    print '  Viscosity:     ', visc\n",
      "    print '  Rotation time: ', 1/rot_diffusivity(hydrodynamic_rad, 293 * u.degK, visc).to('1/ps') # FIXME\n",
      "    print"
     ],
     "language": "python",
     "metadata": {},
     "outputs": [
      {
       "output_type": "stream",
       "stream": "stdout",
       "text": [
        "weight fraction  0\n",
        "  Water:          360.0 microliter\n",
        "  Fluorophore:    40.0 microliter\n",
        "  Glycerol:       0 microliter\n",
        "  Actual wt/wt:   0.0\n",
        "  Viscosity:      0.892739320467 centiPoise\n",
        "  Rotation time:  150.055476501 picosecond\n",
        "\n",
        "weight fraction  0.1\n",
        "  Water:          328.0 microliter\n",
        "  Fluorophore:    40.0 microliter\n",
        "  Glycerol:       32.0 microliter\n",
        "  Actual wt/wt:   0.11\n",
        "  Viscosity:      1.17461672496 centiPoise\n",
        "  Rotation time:  197.434646744 picosecond\n",
        "\n",
        "weight fraction  0.2\n",
        "  Water:          294.0 microliter\n",
        "  Fluorophore:    40.0 microliter\n",
        "  Glycerol:       66.0 microliter\n",
        "  Actual wt/wt:   0.22\n",
        "  Viscosity:      1.62384866904 centiPoise\n",
        "  Rotation time:  272.943490012 picosecond\n",
        "\n",
        "weight fraction  0.3\n",
        "  Water:          258.0 microliter\n",
        "  Fluorophore:    40.0 microliter\n",
        "  Glycerol:       102.0 microliter\n",
        "  Actual wt/wt:   0.33\n",
        "  Viscosity:      2.39088605581 centiPoise\n",
        "  Rotation time:  401.870443185 picosecond\n",
        "\n",
        "weight fraction  0.5\n",
        "  Water:          183.0 microliter\n",
        "  Fluorophore:    40.0 microliter\n",
        "  Glycerol:       177.0 microliter\n",
        "  Actual wt/wt:   0.55\n",
        "  Viscosity:      6.51248673136 centiPoise\n",
        "  Rotation time:  1094.64686642 picosecond\n",
        "\n",
        "weight fraction  0.6\n",
        "  Water:          143.0 microliter\n",
        "  Fluorophore:    40.0 microliter\n",
        "  Glycerol:       217.0 microliter\n",
        "  Actual wt/wt:   0.66\n",
        "  Viscosity:      12.9319752432 centiPoise\n",
        "  Rotation time:  2173.66219089 picosecond\n",
        "\n",
        "weight fraction  0.7\n",
        "  Water:          100.0 microliter\n",
        "  Fluorophore:    40.0 microliter\n",
        "  Glycerol:       260.0 microliter\n",
        "  Actual wt/wt:   0.77\n",
        "  Viscosity:      32.1221866047 centiPoise\n",
        "  Rotation time:  5399.23570826 picosecond\n",
        "\n"
       ]
      }
     ],
     "prompt_number": 110
    },
    {
     "cell_type": "code",
     "collapsed": false,
     "input": [],
     "language": "python",
     "metadata": {},
     "outputs": []
    }
   ],
   "metadata": {}
  }
 ]
}