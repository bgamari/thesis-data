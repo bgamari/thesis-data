{
 "metadata": {
  "name": "",
  "signature": "sha256:972fe1680040e19a043e671c6eba3dcff32d3e1554ba528883f7237678408461"
 },
 "nbformat": 3,
 "nbformat_minor": 0,
 "worksheets": [
  {
   "cells": [
    {
     "cell_type": "code",
     "collapsed": false,
     "input": [
      "import numpy as np\n",
      "from numpy import exp\n",
      "\n",
      "from squmfit import Fit, model\n",
      "import squmfit.plot"
     ],
     "language": "python",
     "metadata": {},
     "outputs": [],
     "prompt_number": 33
    },
    {
     "cell_type": "code",
     "collapsed": false,
     "input": [
      "# Excitation power in microwatts\n",
      "ph75_runs = {\n",
      "    '004': 11,\n",
      "    '005': 17.7,\n",
      "    '006': 35.8,\n",
      "    '007': 64.8,\n",
      "    '008': 116,\n",
      "    '009': 165,\n",
      "    '010': 210,\n",
      "    '011': 256,\n",
      "    '012': 294,\n",
      "    '013': 429,\n",
      "    '014': 556,\n",
      "    '015': 651,\n",
      "    '016': 756,\n",
      "    '017': 34.8,\n",
      "    '018': 15.1,\n",
      "    '019': 6.5,\n",
      "    '020': 2.8,\n",
      "}\n",
      "ph75_runs = {'2015-03-19-run_%s'%name: power for name,power in ph75_runs.items()}"
     ],
     "language": "python",
     "metadata": {},
     "outputs": [],
     "prompt_number": 28
    },
    {
     "cell_type": "code",
     "collapsed": false,
     "input": [
      "@model\n",
      "def Gdiff(tau, N, w, alpha, D):\n",
      "    \"\"\"\n",
      "    Standard three-dimensional diffusion model.\n",
      "    \n",
      "    :param tau: Lag\n",
      "    :param N: Expected number of molecules per observation volume.\n",
      "    :param w: Observation volume waist\n",
      "    :param alpha: Observation volume aspect ratio.\n",
      "    :param D: Diffusivity.\n",
      "    \"\"\"\n",
      "    return (1 + 4*D*tau/w**2)**(-1) * (1 + 4*D*tau/(alpha*w)**2)**(-0.5) / N\n",
      "\n",
      "@model\n",
      "def Gtriplet(tau, N, w, alpha, D, Teq, tauT):\n",
      "    \"\"\"\n",
      "    Three-dimensional diffusion with triplet.\n",
      "    \n",
      "    :param Teq: equilibrium triplet fraction.\n",
      "    :param tauT: triplet decay lifetime.\n",
      "    \"\"\"\n",
      "    return Gdiff(tau, N, w, alpha, D) * (1 - Teq + Teq*exp(-tau / tauT))\n",
      "\n",
      "@model\n",
      "def Gbleach(tau, N, w, alpha, D, kISC, kS, kT, sigIexc, phiD):\n",
      "    \"\"\"\n",
      "    Three-dimensional diffusion with triplet and photobleaching.\n",
      "    \n",
      "    See Widengren. _Bioimaging_. No 4, pp. 149-157 (1996).\n",
      "    \n",
      "    :param kISC: Inter-system crossing rate.\n",
      "    :param kT: rate of triplet-to-ground decay.\n",
      "    :param kS: rate of singlet-to-ground decay.\n",
      "    :param sigIexc: the product of sigma * Iexc\n",
      "    :param phiD: rate of photobleaching\n",
      "    \"\"\"\n",
      "    tauT = 1 / (kT + sigIexc * kISC / (kS + sigIexc))\n",
      "    Teq = sigIexc * kISC / (sigIexc * (kT + kISC) + kS*kT)\n",
      "    # S1 = mean fraction of fluorophores in observation volume in singlet excited state\n",
      "    S1 = sigIexc * kT / (sigIexc * (kT + kISC) + kS*kT)\n",
      "    kD = phiD * (kS + kISC) * S1\n",
      "    return Gtriplet(tau, N, w, alpha, D, Teq, tauT) * exp(-kD * tau)"
     ],
     "language": "python",
     "metadata": {},
     "outputs": [],
     "prompt_number": 29
    },
    {
     "cell_type": "code",
     "collapsed": false,
     "input": [
      "fit = Fit()\n",
      "# Distances in nanometers\n",
      "# Times in nanoseconds\n",
      "n = fit.param('n', initial=1)\n",
      "w = fit.param('w', initial=300e-9)\n",
      "alpha = fit.param('alpha', initial=10)\n",
      "D = fit.param('D', initial=0.411)\n",
      "kISC = fit.param('kISC', initial=1e-3)\n",
      "kS = fit.param('kS', initial=1e-3)\n",
      "kT = fit.param('kT', initial=1e-3)\n",
      "phiD = fit.param('phiD', initial=1e-6)\n",
      "lag = squmfit.Argument('lag')\n",
      "\n",
      "for name,power in ph75_runs.items():\n",
      "    corr = np.genfromtxt('%s.timetag.acorr-0' % name, dtype=None, names='lag,G,var')\n",
      "    model = Gbleach(lag, n, w, alpha, D, kISC, kS, kT, power, phiD)\n",
      "    fit.add_curve(name, model, corr['G'], lag=corr['lag'])\n",
      "    \n",
      "res = fit.fit()"
     ],
     "language": "python",
     "metadata": {},
     "outputs": [],
     "prompt_number": 38
    },
    {
     "cell_type": "code",
     "collapsed": false,
     "input": [
      "squmfit.plot.plot_fit(lag, res)"
     ],
     "language": "python",
     "metadata": {},
     "outputs": [
      {
       "ename": "KeyError",
       "evalue": "<squmfit.expr.Argument object at 0x7ff971456910>",
       "output_type": "pyerr",
       "traceback": [
        "\u001b[0;31m---------------------------------------------------------------------------\u001b[0m\n\u001b[0;31mKeyError\u001b[0m                                  Traceback (most recent call last)",
        "\u001b[0;32m<ipython-input-45-ea188e4eab13>\u001b[0m in \u001b[0;36m<module>\u001b[0;34m()\u001b[0m\n\u001b[0;32m----> 1\u001b[0;31m \u001b[0msqumfit\u001b[0m\u001b[0;34m.\u001b[0m\u001b[0mplot\u001b[0m\u001b[0;34m.\u001b[0m\u001b[0mplot_fit\u001b[0m\u001b[0;34m(\u001b[0m\u001b[0mlag\u001b[0m\u001b[0;34m,\u001b[0m \u001b[0mres\u001b[0m\u001b[0;34m)\u001b[0m\u001b[0;34m\u001b[0m\u001b[0m\n\u001b[0m",
        "\u001b[0;32m/usr/local/lib/python2.7/dist-packages/squmfit-0.1-py2.7.egg/squmfit/plot.pyc\u001b[0m in \u001b[0;36mplot_fit\u001b[0;34m(x, result, range, xscale, errorbars, fig, with_residuals, abs_residuals, residual_range, legend_kwargs)\u001b[0m\n\u001b[1;32m     35\u001b[0m \u001b[0;34m\u001b[0m\u001b[0m\n\u001b[1;32m     36\u001b[0m     \u001b[0;32mif\u001b[0m \u001b[0mrange\u001b[0m \u001b[0;32mis\u001b[0m \u001b[0mNone\u001b[0m\u001b[0;34m:\u001b[0m\u001b[0;34m\u001b[0m\u001b[0m\n\u001b[0;32m---> 37\u001b[0;31m         \u001b[0mxmin\u001b[0m \u001b[0;34m=\u001b[0m \u001b[0mmin\u001b[0m\u001b[0;34m(\u001b[0m\u001b[0mc\u001b[0m\u001b[0;34m.\u001b[0m\u001b[0mcurve\u001b[0m\u001b[0;34m.\u001b[0m\u001b[0muser_args\u001b[0m\u001b[0;34m[\u001b[0m\u001b[0mx\u001b[0m\u001b[0;34m]\u001b[0m\u001b[0;34m.\u001b[0m\u001b[0mmin\u001b[0m\u001b[0;34m(\u001b[0m\u001b[0;34m)\u001b[0m \u001b[0;32mfor\u001b[0m \u001b[0mc\u001b[0m \u001b[0;32min\u001b[0m \u001b[0mresult\u001b[0m\u001b[0;34m.\u001b[0m\u001b[0mcurves\u001b[0m\u001b[0;34m.\u001b[0m\u001b[0mvalues\u001b[0m\u001b[0;34m(\u001b[0m\u001b[0;34m)\u001b[0m\u001b[0;34m)\u001b[0m\u001b[0;34m\u001b[0m\u001b[0m\n\u001b[0m\u001b[1;32m     38\u001b[0m         \u001b[0mxmax\u001b[0m \u001b[0;34m=\u001b[0m \u001b[0mmax\u001b[0m\u001b[0;34m(\u001b[0m\u001b[0mc\u001b[0m\u001b[0;34m.\u001b[0m\u001b[0mcurve\u001b[0m\u001b[0;34m.\u001b[0m\u001b[0muser_args\u001b[0m\u001b[0;34m[\u001b[0m\u001b[0mx\u001b[0m\u001b[0;34m]\u001b[0m\u001b[0;34m.\u001b[0m\u001b[0mmax\u001b[0m\u001b[0;34m(\u001b[0m\u001b[0;34m)\u001b[0m \u001b[0;32mfor\u001b[0m \u001b[0mc\u001b[0m \u001b[0;32min\u001b[0m \u001b[0mresult\u001b[0m\u001b[0;34m.\u001b[0m\u001b[0mcurves\u001b[0m\u001b[0;34m.\u001b[0m\u001b[0mvalues\u001b[0m\u001b[0;34m(\u001b[0m\u001b[0;34m)\u001b[0m\u001b[0;34m)\u001b[0m\u001b[0;34m\u001b[0m\u001b[0m\n\u001b[1;32m     39\u001b[0m         \u001b[0mrange\u001b[0m \u001b[0;34m=\u001b[0m \u001b[0;34m(\u001b[0m\u001b[0mxmin\u001b[0m\u001b[0;34m,\u001b[0m \u001b[0mxmax\u001b[0m\u001b[0;34m)\u001b[0m\u001b[0;34m\u001b[0m\u001b[0m\n",
        "\u001b[0;32m/usr/local/lib/python2.7/dist-packages/squmfit-0.1-py2.7.egg/squmfit/plot.pyc\u001b[0m in \u001b[0;36m<genexpr>\u001b[0;34m((c,))\u001b[0m\n\u001b[1;32m     35\u001b[0m \u001b[0;34m\u001b[0m\u001b[0m\n\u001b[1;32m     36\u001b[0m     \u001b[0;32mif\u001b[0m \u001b[0mrange\u001b[0m \u001b[0;32mis\u001b[0m \u001b[0mNone\u001b[0m\u001b[0;34m:\u001b[0m\u001b[0;34m\u001b[0m\u001b[0m\n\u001b[0;32m---> 37\u001b[0;31m         \u001b[0mxmin\u001b[0m \u001b[0;34m=\u001b[0m \u001b[0mmin\u001b[0m\u001b[0;34m(\u001b[0m\u001b[0mc\u001b[0m\u001b[0;34m.\u001b[0m\u001b[0mcurve\u001b[0m\u001b[0;34m.\u001b[0m\u001b[0muser_args\u001b[0m\u001b[0;34m[\u001b[0m\u001b[0mx\u001b[0m\u001b[0;34m]\u001b[0m\u001b[0;34m.\u001b[0m\u001b[0mmin\u001b[0m\u001b[0;34m(\u001b[0m\u001b[0;34m)\u001b[0m \u001b[0;32mfor\u001b[0m \u001b[0mc\u001b[0m \u001b[0;32min\u001b[0m \u001b[0mresult\u001b[0m\u001b[0;34m.\u001b[0m\u001b[0mcurves\u001b[0m\u001b[0;34m.\u001b[0m\u001b[0mvalues\u001b[0m\u001b[0;34m(\u001b[0m\u001b[0;34m)\u001b[0m\u001b[0;34m)\u001b[0m\u001b[0;34m\u001b[0m\u001b[0m\n\u001b[0m\u001b[1;32m     38\u001b[0m         \u001b[0mxmax\u001b[0m \u001b[0;34m=\u001b[0m \u001b[0mmax\u001b[0m\u001b[0;34m(\u001b[0m\u001b[0mc\u001b[0m\u001b[0;34m.\u001b[0m\u001b[0mcurve\u001b[0m\u001b[0;34m.\u001b[0m\u001b[0muser_args\u001b[0m\u001b[0;34m[\u001b[0m\u001b[0mx\u001b[0m\u001b[0;34m]\u001b[0m\u001b[0;34m.\u001b[0m\u001b[0mmax\u001b[0m\u001b[0;34m(\u001b[0m\u001b[0;34m)\u001b[0m \u001b[0;32mfor\u001b[0m \u001b[0mc\u001b[0m \u001b[0;32min\u001b[0m \u001b[0mresult\u001b[0m\u001b[0;34m.\u001b[0m\u001b[0mcurves\u001b[0m\u001b[0;34m.\u001b[0m\u001b[0mvalues\u001b[0m\u001b[0;34m(\u001b[0m\u001b[0;34m)\u001b[0m\u001b[0;34m)\u001b[0m\u001b[0;34m\u001b[0m\u001b[0m\n\u001b[1;32m     39\u001b[0m         \u001b[0mrange\u001b[0m \u001b[0;34m=\u001b[0m \u001b[0;34m(\u001b[0m\u001b[0mxmin\u001b[0m\u001b[0;34m,\u001b[0m \u001b[0mxmax\u001b[0m\u001b[0;34m)\u001b[0m\u001b[0;34m\u001b[0m\u001b[0m\n",
        "\u001b[0;31mKeyError\u001b[0m: <squmfit.expr.Argument object at 0x7ff971456910>"
       ]
      }
     ],
     "prompt_number": 45
    },
    {
     "cell_type": "code",
     "collapsed": false,
     "input": [
      "\n",
      "?squmfit.plot.plot_fit"
     ],
     "language": "python",
     "metadata": {},
     "outputs": [],
     "prompt_number": 42
    },
    {
     "cell_type": "code",
     "collapsed": false,
     "input": [],
     "language": "python",
     "metadata": {},
     "outputs": []
    }
   ],
   "metadata": {}
  }
 ]
}