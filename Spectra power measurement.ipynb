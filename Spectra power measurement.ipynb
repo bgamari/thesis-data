{
 "metadata": {
  "name": "Spectra power measurement"
 },
 "nbformat": 3,
 "nbformat_minor": 0,
 "worksheets": [
  {
   "cells": [
    {
     "cell_type": "code",
     "collapsed": false,
     "input": [
      "a = genfromtxt('spectra-power.txt', dtype='f8',\n",
      "               names='lambda,nd,p,pfred,pumpfred', missing_values='?')"
     ],
     "language": "python",
     "metadata": {},
     "outputs": [],
     "prompt_number": 30
    },
    {
     "cell_type": "code",
     "collapsed": false,
     "input": [
      "a"
     ],
     "language": "python",
     "metadata": {},
     "outputs": [
      {
       "output_type": "pyout",
       "prompt_number": 31,
       "text": [
        "array([(860.0, 0.5, 405.0, 1870.0, 9.5), (870.0, 0.5, 395.0, 1800.0, 9.5),\n",
        "       (880.0, 0.5, 362.0, 1750.0, 9.5), (890.0, 0.5, 338.0, 1610.0, 9.5),\n",
        "       (900.0, 0.5, 249.0, 1700.0, 10.0),\n",
        "       (910.0, 0.5, 182.0, 1590.0, 10.0),\n",
        "       (920.0, 0.5, 152.0, 1520.0, 10.0),\n",
        "       (930.0, 0.5, 118.0, 1500.0, 10.0),\n",
        "       (940.0, 0.5, 101.0, 1430.0, 10.0), (950.0, 0.5, 79.0, 1200.0, 9.25),\n",
        "       (960.0, 0.5, 31.0, 1120.0, 9.0), (960.0, 0.0, 85.0, 1120.0, 9.0),\n",
        "       (965.0, 0.0, 12.0, nan, nan), (970.0, nan, nan, 1050.0, 9.25),\n",
        "       (980.0, nan, nan, 990.0, 9.5), (990.0, nan, nan, 975.0, 9.5),\n",
        "       (1000.0, nan, nan, 920.0, 9.5), (1010.0, nan, nan, 660.0, 8.75),\n",
        "       (1020.0, nan, nan, 550.0, 8.4), (1030.0, nan, nan, 480.0, 8.2),\n",
        "       (1040.0, nan, nan, 380.0, 8.2), (1050.0, nan, nan, 315.0, 8.2)], \n",
        "      dtype=[('lambda', '<f8'), ('nd', '<f8'), ('p', '<f8'), ('pfred', '<f8'), ('pumpfred', '<f8')])"
       ]
      }
     ],
     "prompt_number": 31
    },
    {
     "cell_type": "code",
     "collapsed": false,
     "input": [
      "clf()\n",
      "plot(a['lambda'], a['p'] / 10**-a['nd'], 'o', label=\"Current condition\")\n",
      "plot(a['lambda'], a['pfred'], 'o', label=\"Fred's measurement\")\n",
      "plot(a['lambda'], a['pfred'] / a['pumpfred'] * 9.2, 'o', label=\"Fred's measurement (normalized)\")\n",
      "xlabel('Wavelength (nm)')\n",
      "legend()\n",
      "show()"
     ],
     "language": "python",
     "metadata": {},
     "outputs": [],
     "prompt_number": 32
    },
    {
     "cell_type": "code",
     "collapsed": false,
     "input": [
      "plot(a['pumpfred'])"
     ],
     "language": "python",
     "metadata": {},
     "outputs": [
      {
       "output_type": "pyout",
       "prompt_number": 28,
       "text": [
        "[<matplotlib.lines.Line2D at 0x41b35d0>]"
       ]
      }
     ],
     "prompt_number": 28
    },
    {
     "cell_type": "code",
     "collapsed": false,
     "input": [],
     "language": "python",
     "metadata": {},
     "outputs": []
    }
   ],
   "metadata": {}
  }
 ]
}